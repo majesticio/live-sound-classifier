{
  "nbformat": 4,
  "nbformat_minor": 0,
  "metadata": {
    "colab": {
      "name": "IoT-live-sound-classifier.ipynb",
      "provenance": [],
      "mount_file_id": "1aZTHbDk6uXJwULg1mNaQSAUJXWidQwvP",
      "authorship_tag": "ABX9TyP2k4l6xQTXf9ooawqsPg88",
      "include_colab_link": true
    },
    "kernelspec": {
      "name": "python3",
      "display_name": "Python 3"
    },
    "language_info": {
      "name": "python"
    }
  },
  "cells": [
    {
      "cell_type": "markdown",
      "metadata": {
        "id": "view-in-github",
        "colab_type": "text"
      },
      "source": [
        "<a href=\"https://colab.research.google.com/github/majesticio/live-sound-classifier/blob/main/IoT_live_sound_classifier.ipynb\" target=\"_parent\"><img src=\"https://colab.research.google.com/assets/colab-badge.svg\" alt=\"Open In Colab\"/></a>"
      ]
    },
    {
      "cell_type": "code",
      "source": [
        "import IPython.display as ipd\n",
        "import matplotlib.pyplot as plt\n",
        "import tensorflow as tf\n",
        "import pandas as pd \n",
        "import wave\n",
        "import struct\n",
        "from sklearn.preprocessing import LabelEncoder \n",
        "from sklearn.model_selection import train_test_split \n",
        "from tensorflow.keras.utils import to_categorical\n",
        "import numpy as np\n",
        "from keras.models import Sequential\n",
        "from keras.layers import Dense, Dropout, Activation, Flatten\n",
        "from keras.layers import Convolution2D, Conv2D, MaxPooling2D, GlobalAveragePooling2D\n",
        "from tensorflow.keras.optimizers import Adam\n",
        "from keras.utils import np_utils\n",
        "from sklearn import metrics\n",
        "from keras.callbacks import ModelCheckpoint \n",
        "from datetime import datetime \n",
        "from playsound import playsound\n",
        "import os\n",
        "import librosa\n",
        "import librosa.display\n",
        "from pydub import AudioSegment\n",
        "import numpy as np\n",
        "import soundfile as sfile\n",
        "import math\n",
        "import matplotlib.pyplot as plt\n",
        "from scipy.io import wavfile\n",
        "import subprocess\n",
        "import audioop\n",
        "import os\n",
        "import datetime\n",
        "import pickle"
      ],
      "metadata": {
        "id": "iCFxN3TDOOeY"
      },
      "execution_count": null,
      "outputs": []
    },
    {
      "cell_type": "code",
      "source": [
        "#Declare path for pickled variables X, y\n",
        "pickledX = '/home/samus/models/variables/pickledX.x'\n",
        "pickledY = '/home/samus/models/variables/pickledY.y'"
      ],
      "metadata": {
        "id": "guDjeM_EYbQY"
      },
      "execution_count": null,
      "outputs": []
    },
    {
      "cell_type": "code",
      "source": [
        "#Assign X and y to thier respective pickles\n",
        "X = pickle.load(open(pickledX, 'rb'))\n",
        "y = pickle.load(open(pickledY, 'rb'))"
      ],
      "metadata": {
        "id": "9unemoLnYQ9e"
      },
      "execution_count": null,
      "outputs": []
    },
    {
      "cell_type": "code",
      "source": [
        "#All of the metadata is defined from X and y(!)\n",
        "# Encode the classification labels\n",
        "le = LabelEncoder()\n",
        "yy = to_categorical(le.fit_transform(y)) \n",
        "\n",
        "# split the dataset \n",
        "\n",
        "x_train, x_test, y_train, y_test = train_test_split(X, yy, test_size=0.2, random_state = 42)"
      ],
      "metadata": {
        "id": "oehB1_xUIzGS"
      },
      "execution_count": null,
      "outputs": []
    },
    {
      "cell_type": "code",
      "source": [
        "#Question for Nevin: do I need checkpointer, model.fit? Do I need to compile?\n",
        "# num_epochs = 128\n",
        "# num_batch_size = 64\n",
        "# checkpointer = ModelCheckpoint(filepath='saved_models/weights.best.basic_mlp.hdf5', \n",
        "#                                verbose=1, save_best_only=True)"
      ],
      "metadata": {
        "id": "dIt2cqtWJrDm"
      },
      "execution_count": null,
      "outputs": []
    },
    {
      "cell_type": "code",
      "source": [
        "# %store"
      ],
      "metadata": {
        "id": "dpzoi-vHCaZK"
      },
      "execution_count": null,
      "outputs": []
    },
    {
      "cell_type": "markdown",
      "source": [
        "Load a pickeled model."
      ],
      "metadata": {
        "id": "qdxqSyA9Fa6R"
      }
    },
    {
      "cell_type": "code",
      "source": [
        "# load the model from pickled model path\n",
        "pickledModelPath = '/home/samus/models/pickeled_model.sav'\n",
        "model = pickle.load(open(pickledModelPath, 'rb'))"
      ],
      "metadata": {
        "id": "u5LvGcHnFgnj",
        "colab": {
          "base_uri": "https://localhost:8080/"
        },
        "outputId": "1191229b-a16f-4006-f1d0-fc0ba525bc8a"
      },
      "execution_count": null,
      "outputs": [
        {
          "output_type": "stream",
          "name": "stderr",
          "text": [
            "2022-01-26 08:58:44.756376: I tensorflow/stream_executor/cuda/cuda_gpu_executor.cc:939] successful NUMA node read from SysFS had negative value (-1), but there must be at least one NUMA node, so returning NUMA node zero\n",
            "2022-01-26 08:58:44.793591: I tensorflow/stream_executor/cuda/cuda_gpu_executor.cc:939] successful NUMA node read from SysFS had negative value (-1), but there must be at least one NUMA node, so returning NUMA node zero\n",
            "2022-01-26 08:58:44.793855: I tensorflow/stream_executor/cuda/cuda_gpu_executor.cc:939] successful NUMA node read from SysFS had negative value (-1), but there must be at least one NUMA node, so returning NUMA node zero\n",
            "2022-01-26 08:58:44.794486: I tensorflow/core/platform/cpu_feature_guard.cc:151] This TensorFlow binary is optimized with oneAPI Deep Neural Network Library (oneDNN) to use the following CPU instructions in performance-critical operations:  FMA\n",
            "To enable them in other operations, rebuild TensorFlow with the appropriate compiler flags.\n",
            "2022-01-26 08:58:44.834267: I tensorflow/stream_executor/cuda/cuda_gpu_executor.cc:939] successful NUMA node read from SysFS had negative value (-1), but there must be at least one NUMA node, so returning NUMA node zero\n",
            "2022-01-26 08:58:44.834548: I tensorflow/stream_executor/cuda/cuda_gpu_executor.cc:939] successful NUMA node read from SysFS had negative value (-1), but there must be at least one NUMA node, so returning NUMA node zero\n",
            "2022-01-26 08:58:44.834776: I tensorflow/stream_executor/cuda/cuda_gpu_executor.cc:939] successful NUMA node read from SysFS had negative value (-1), but there must be at least one NUMA node, so returning NUMA node zero\n",
            "2022-01-26 08:58:45.190472: I tensorflow/stream_executor/cuda/cuda_gpu_executor.cc:939] successful NUMA node read from SysFS had negative value (-1), but there must be at least one NUMA node, so returning NUMA node zero\n",
            "2022-01-26 08:58:45.190745: I tensorflow/stream_executor/cuda/cuda_gpu_executor.cc:939] successful NUMA node read from SysFS had negative value (-1), but there must be at least one NUMA node, so returning NUMA node zero\n",
            "2022-01-26 08:58:45.190980: I tensorflow/stream_executor/cuda/cuda_gpu_executor.cc:939] successful NUMA node read from SysFS had negative value (-1), but there must be at least one NUMA node, so returning NUMA node zero\n",
            "2022-01-26 08:58:45.191193: I tensorflow/core/common_runtime/gpu/gpu_device.cc:1525] Created device /job:localhost/replica:0/task:0/device:GPU:0 with 5622 MB memory:  -> device: 0, name: NVIDIA GeForce RTX 2080 SUPER, pci bus id: 0000:05:00.0, compute capability: 7.5\n",
            "2022-01-26 08:58:45.191471: I tensorflow/core/common_runtime/process_util.cc:146] Creating new thread pool with default inter op setting: 2. Tune using inter_op_parallelism_threads for best performance.\n"
          ]
        }
      ]
    },
    {
      "cell_type": "markdown",
      "source": [
        "Load a pre-trained model."
      ],
      "metadata": {
        "id": "hFtp4M_NESw4"
      }
    },
    {
      "cell_type": "markdown",
      "source": [
        "Very Important"
      ],
      "metadata": {
        "id": "uuwJuGmwWJd2"
      }
    },
    {
      "cell_type": "code",
      "source": [
        "#Must Declare\n",
        "num_rows = 40\n",
        "num_columns = 174\n",
        "num_channels = 1"
      ],
      "metadata": {
        "id": "hAtbKru6bubz"
      },
      "execution_count": null,
      "outputs": []
    },
    {
      "cell_type": "markdown",
      "source": [
        "Compile the model."
      ],
      "metadata": {
        "id": "UQeJMXRlVphJ"
      }
    },
    {
      "cell_type": "code",
      "source": [
        "#Do I need to compile?\n",
        "model.summary()"
      ],
      "metadata": {
        "id": "FE0c2o8QVpOm"
      },
      "execution_count": null,
      "outputs": []
    },
    {
      "cell_type": "code",
      "source": [
        "#Define a function that will create a spectrogram for each audio sample. \n",
        "#This function uses librosa to standardize the data.\n",
        "\n",
        "max_pad_len = 174 #original\n",
        "# max_pad_len = 255\n",
        "\n",
        "def extract_features(file_name):\n",
        "   \n",
        "    try:\n",
        "        audio, sample_rate = librosa.load(file_name, res_type='kaiser_fast') \n",
        "        # print(sample_rate)\n",
        "        mfccs = librosa.feature.mfcc(y=audio, sr=sample_rate, n_mfcc=40)\n",
        "        # print(mfccs)\n",
        "        pad_width = max_pad_len - mfccs.shape[1]\n",
        "        # print(mfccs.shape[1])\n",
        "        mfccs = np.pad(mfccs, pad_width=((0, 0), (0, pad_width)),\n",
        "                       mode='constant')\n",
        "        \n",
        "    except Exception as e:\n",
        "        print(\"Error encountered while parsing file: \", file_name)\n",
        "        return None \n",
        "     \n",
        "    return mfccs\n"
      ],
      "metadata": {
        "id": "GA3iOGqTQhP9"
      },
      "execution_count": null,
      "outputs": []
    },
    {
      "cell_type": "code",
      "source": [
        "def print_prediction(file_name):\n",
        "    prediction_feature = extract_features(file_name)\n",
        "    # print(\"Printing Type: \")\n",
        "    # type(prediction_feature)\n",
        "    # print(\"Printing Feature\")\n",
        "    # print(prediction_feature)\n",
        "    prediction_feature = prediction_feature.reshape(1, num_rows, num_columns, num_channels)#very important \n",
        "\n",
        "    predicted_vector = model.predict(prediction_feature) \n",
        "    # np.argmax(model.predict(x), axis=-1)\n",
        "    \n",
        "    predicted_class = np.argmax(predicted_vector,axis=1)\n",
        "    labels = [\"air_conditioner\", \"car_horn\", \"children_playing\", \"dog_bark\", \"drilling\", \"engine_idling\",\n",
        "              \"glass_breaking\", \"gun_shot\", \"jackhammer\", \"siren\", \"street_music\"]\n",
        "    print(\"The predicted class is:\", labels[predicted_class[0]], '\\n') \n",
        "\n",
        "    predicted_proba_vector = model.predict(prediction_feature) \n",
        "    predicted_proba = predicted_proba_vector[0]\n",
        "    for i in range(len(predicted_proba)): \n",
        "        category = le.inverse_transform(np.array([i]))\n",
        "        print(category[0], \"\\t\\t : \", format(predicted_proba[i], '.32f') )"
      ],
      "metadata": {
        "id": "Me38vldJQ5vO"
      },
      "execution_count": null,
      "outputs": []
    },
    {
      "cell_type": "code",
      "source": [
        "def checkVolumePredict(filename, sensitivity):\n",
        "# sensitivity = -40\n",
        "  audio=AudioSegment.from_mp3(filename)\n",
        "  signal, sr = sfile.read(filename)\n",
        "  samples=audio.get_array_of_samples()\n",
        "  samples_sf=0\n",
        "  try:\n",
        "      samples_sf = signal[:, 0]  # use the first channel for dual\n",
        "  except:\n",
        "      samples_sf=signal  # for mono\n",
        "\n",
        "\n",
        "  def convert_to_decibel(arr):\n",
        "\n",
        "    ref = 1\n",
        "    if arr !=0:\n",
        "      return 20 * np.log10(abs(arr) / ref)\n",
        "          \n",
        "    else:\n",
        "      return -60\n",
        "  data=[convert_to_decibel(i) for i in samples_sf]\n",
        "  highest = max(data)\n",
        "  print (\"highest reading:\",\n",
        "        highest)\n",
        "  if highest > sensitivity:\n",
        "    print_prediction(filename)\n",
        "    print(highest)\n",
        "  else:\n",
        "    subprocess.run([\"rm\" , filename])\n",
        "    print('too quiet', highest)"
      ],
      "metadata": {
        "id": "nTPdr4klRZ_o"
      },
      "execution_count": null,
      "outputs": []
    },
    {
      "cell_type": "code",
      "source": [
        "!pwd"
      ],
      "metadata": {
        "colab": {
          "base_uri": "https://localhost:8080/"
        },
        "id": "MQnHoxmLrewc",
        "outputId": "8f8fcada-aaa4-444c-860d-7dab748a1a37"
      },
      "execution_count": null,
      "outputs": [
        {
          "output_type": "stream",
          "name": "stdout",
          "text": [
            "/home/samus\r\n"
          ]
        }
      ]
    },
    {
      "cell_type": "code",
      "source": [
        "#Class: glass breaking\n",
        "filename = '/home/samus/DataCollection/fucked/legit.wav'\n",
        "print_prediction(filename)"
      ],
      "metadata": {
        "colab": {
          "base_uri": "https://localhost:8080/"
        },
        "id": "AttRtt0BHlMp",
        "outputId": "7df961fe-3b46-46e7-9160-c8cc3caf2cf9"
      },
      "execution_count": null,
      "outputs": [
        {
          "output_type": "stream",
          "name": "stdout",
          "text": [
            "The predicted class is: glass_breaking \n",
            "\n",
            "air_conditioner \t\t :  0.00000000000603473737995074976936\n",
            "car_horn \t\t :  0.00000000000020534341913479303710\n",
            "children_playing \t\t :  0.00000262768185166351031512022018\n",
            "dog_bark \t\t :  0.00137719768099486827850341796875\n",
            "drilling \t\t :  0.00000000043884143541284004186309\n",
            "engine_idling \t\t :  0.00000000000022233091561373041767\n",
            "glass_breaking \t\t :  0.99861204624176025390625000000000\n",
            "gun_shot \t\t :  0.00000806664411356905475258827209\n",
            "jackhammer \t\t :  0.00000000000002894562302520331531\n",
            "siren \t\t :  0.00000000000021380457354645138190\n",
            "street_music \t\t :  0.00000000000000062228683662311985\n"
          ]
        }
      ]
    },
    {
      "cell_type": "code",
      "source": [
        "# while (True):\n",
        "samples_path = '/home/samus/Music/samples/'\n",
        "# samples_folder = '/content/drive/MyDrive/samples/'\n",
        "timestamp = datetime.datetime.now().strftime('%Y_%m_%d-%H_%M_%S')\n",
        "# filename = samples_folder + timestamp + \".wav\"\n",
        "filename = samples_path + timestamp + \".wav\"\n",
        "print(timestamp)\n",
        "\n",
        "#hw id will change on different hardware\n",
        "cmd = 'arecord -D hw:3,0 -t wav -f S16_LE -r 44100 -c 2 -d 3 ' + filename \n",
        "\n",
        "os.system(cmd) #records a three second sample\n",
        "\n",
        "checkVolumePredict(filename, -40); #Determines decibel threshold\n",
        "# playsound(filename)\n",
        "# checkVolume(filename)\n",
        "\n",
        "timestamp = datetime.datetime.now().strftime('%Y_%m_%d-%H_%M_%S')\n",
        "print(timestamp)\n"
      ],
      "metadata": {
        "id": "4yfMx8J2SBoz"
      },
      "execution_count": null,
      "outputs": []
    },
    {
      "cell_type": "code",
      "source": [
        ""
      ],
      "metadata": {
        "id": "B-o38hA8Tox7"
      },
      "execution_count": null,
      "outputs": []
    }
  ]
}